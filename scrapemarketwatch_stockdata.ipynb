{
 "cells": [
  {
   "cell_type": "code",
   "execution_count": 37,
   "metadata": {},
   "outputs": [],
   "source": [
    "#Imports of libraries, pandas options\n",
    "\n",
    "import pandas as pd\n",
    "import matplotlib.pyplot as plt\n",
    "import xlsxwriter\n",
    "\n",
    "pd.options.mode.chained_assignment = None  # default='warn', to avoid pd error when editing with for loop, there's no for loops as of now, but it might be needed later"
   ]
  },
  {
   "cell_type": "code",
   "execution_count": 38,
   "metadata": {},
   "outputs": [
    {
     "name": "stdout",
     "output_type": "stream",
     "text": [
      "Insert symbol to research: CSSE\n"
     ]
    }
   ],
   "source": [
    "#Creation of marketwatch data links\n",
    "\n",
    "marketwatchdata = {}\n",
    "\n",
    "ticker=input(\"Insert symbol to research: \")\n",
    "#For stocks on NYSE or NASDAQ just write the ticker\n",
    "#For stocks on other exchanges Marketwatch does not always have data \n",
    "#If you want to find the data they might have, use 'ticker'?countrycode='countrycode'\n",
    "\n",
    "#\n",
    "urlincome = 'https://www.marketwatch.com/investing/stock/' + ticker + '/financials'               #urls are created to\n",
    "urlbalance = 'https://www.marketwatch.com/investing/stock/' + ticker + '/financials/balance-sheet'#begin scraping all\n",
    "urlcashflow = 'https://www.marketwatch.com/investing/stock/' + ticker + '/financials/cash-flow'   #the data\n",
    "urlkeydata = 'https://www.marketwatch.com/investing/stock/' + ticker\n",
    "urlprofile = 'https://www.marketwatch.com/investing/stock/' + ticker + '/company-profile'"
   ]
  },
  {
   "cell_type": "code",
   "execution_count": 39,
   "metadata": {},
   "outputs": [],
   "source": [
    "#Scrape of marketwatch data, not a perfect source but will do for this program\n",
    "\n",
    "income = pd.read_html(urlincome)  #see above for actual urls\n",
    "balancesheet = pd.read_html(urlbalance)\n",
    "cashflow = pd.read_html(urlcashflow)\n",
    "keydata = pd.read_html(urlkeydata)\n",
    "profile = pd.read_html(urlprofile)"
   ]
  },
  {
   "cell_type": "code",
   "execution_count": 40,
   "metadata": {},
   "outputs": [],
   "source": [
    "#general formatting\n",
    "\n",
    "profile[0] = profile[4].rename(columns={'0': 'Financial ratios'})    #lots of generic data, ratios, insider transactions\n",
    "profile[1] = profile[5].rename(columns={'0': 'Revenue ratios'})      #etc. etc., needs to be formatted in a better way\n",
    "profile[2] = profile[6].rename(columns={'0': 'Assets and revenues'}) #than this.\n",
    "profile[3] = profile[7].rename(columns={'0': 'Margin and returns'})\n",
    "profile[4] = profile[8].rename(columns={'0': 'Debt to assets'})\n",
    "profile[5] = profile[9]\n",
    "profile[6] = profile[10].drop(columns = ['Unnamed: 0'])\n",
    "\n",
    "income_statement = income[4].rename(columns={'Item  Item': 'Income statement'})\n",
    "\n",
    "balance_sheet_assets = balancesheet[4].rename(columns={'Item  Item': 'Assets'})\n",
    "balance_sheet_liabilities = balancesheet[5].rename(columns={'Item  Item': 'Liabilities and Equity'})\n",
    "\n",
    "cashflow_operations = cashflow[4].rename(columns={'Item  Item': 'Cash-flow from Operating activities'})\n",
    "cashflow_investing = cashflow[5].rename(columns={'Item  Item': 'Cash-flow from Investing activities'})\n",
    "cashflow_financing = cashflow[6].rename(columns={'Item  Item': 'Cash-flow from Financing activities'})\n",
    "\n",
    "dayprice = keydata[1].rename(columns={'Close': 'Stock price'})\n",
    "performance = keydata[4].rename(columns={'0': 'Performance'})\n",
    "competitors = keydata[5].rename(columns={'Name': 'Competitors'})"
   ]
  },
  {
   "cell_type": "code",
   "execution_count": 41,
   "metadata": {},
   "outputs": [],
   "source": [
    "#after eons and eons, I was finally able to convert the B to billions, M to millions and K to thousands, efficiently\n",
    "#conversion of income statement\n",
    "income_statement.iloc[:, [1,2,3,4,5]] = income_statement.iloc[:, [1,2,3,4,5]].replace({'B': '*1000000', 'M': '*1000', 'K': '', '-':'0'}, regex=True)\n",
    "\n",
    "income_statement.iloc[:, [1,2,3,4,5]] = '=' + income_statement.iloc[:, [1,2,3,4,5]].astype(str)\n",
    "\n",
    "#conversion of balance sheet\n",
    "balance_sheet_assets.iloc[:, [1,2,3,4,5]] = balance_sheet_assets.iloc[:, [1,2,3,4,5]].replace({'B': '*1000000', 'M': '*1000', 'K': '', '-':'0'}, regex=True)\n",
    "balance_sheet_liabilities.iloc[:, [1,2,3,4,5]] = balance_sheet_liabilities.iloc[:, [1,2,3,4,5]].replace({'B': '*1000000', 'M': '*1000', 'K': '', '-':'0'}, regex=True)\n",
    "\n",
    "balance_sheet_assets.iloc[:, [1,2,3,4,5]] = '=' + balance_sheet_assets.iloc[:, [1,2,3,4,5]].astype(str)\n",
    "balance_sheet_liabilities.iloc[:, [1,2,3,4,5]] = '=' + balance_sheet_liabilities.iloc[:, [1,2,3,4,5]].astype(str)\n",
    "\n",
    "#conversion of cashflow statement\n",
    "cashflow_operations.iloc[:, [1,2,3,4,5]] = cashflow_operations.iloc[:, [1,2,3,4,5]].replace({'B': '*1000000', 'M': '*1000', 'K': '', '-':'0'}, regex=True)\n",
    "cashflow_investing.iloc[:, [1,2,3,4,5]] = cashflow_investing.iloc[:, [1,2,3,4,5]].replace({'B': '*1000000', 'M': '*1000', 'K': '', '-':'0'}, regex=True)\n",
    "cashflow_financing.iloc[:, [1,2,3,4,5]] = cashflow_financing.iloc[:, [1,2,3,4,5]].replace({'B': '*1000000', 'M': '*1000', 'K': '', '-':'0'}, regex=True)\n",
    "\n",
    "\n",
    "cashflow_operations.iloc[:, [1,2,3,4,5]] = '=' + cashflow_operations.iloc[:, [1,2,3,4,5]].astype(str)\n",
    "cashflow_investing.iloc[:, [1,2,3,4,5]] = '=' + cashflow_investing.iloc[:, [1,2,3,4,5]].astype(str)\n",
    "cashflow_financing.iloc[:, [1,2,3,4,5]] = '=' + cashflow_financing.iloc[:, [1,2,3,4,5]].astype(str)\n",
    "\n",
    "#General data gets converted to num, to facilitate excel use\n",
    "\n",
    "competitors.iloc[:,[2]] = competitors.iloc[:,[2]].replace({'B': '*1000000', 'M': '*1000', 'K': '', '-':'0', '\\$':'='}, regex=True)\n",
    "dayprice.iloc[:,[0]] = dayprice.iloc[:,[0]].replace({'B': '*1000000', 'M': '*1000', 'K': '', '-':'0', '\\$':'='}, regex=True)"
   ]
  },
  {
   "cell_type": "code",
   "execution_count": 42,
   "metadata": {},
   "outputs": [],
   "source": [
    "#all row labels are duplicated after scrape from marketwatch for some reason, was not able to deduplicate so decided to\n",
    "#limit chars to half the longest title to make it more readable in excel\n",
    "\n",
    "income_statement.iloc[:, [0]] = income_statement.iloc[:, [0]].apply(lambda x: x.str.slice(0, 36)) \n",
    "\n",
    "cashflow_operations.iloc[:, [0]] = cashflow_operations.iloc[:, [0]].apply(lambda x: x.str.slice(0, 39))\n",
    "cashflow_investing.iloc[:, [0]] = cashflow_investing.iloc[:, [0]].apply(lambda x: x.str.slice(0, 36))\n",
    "cashflow_financing.iloc[:, [0]] = cashflow_financing.iloc[:, [0]].apply(lambda x: x.str.slice(0, 38))\n",
    "\n",
    "balance_sheet_assets.iloc[:, [0]] = balance_sheet_assets.iloc[:, [0]].apply(lambda x: x.str.slice(0, 37))\n",
    "balance_sheet_liabilities.iloc[:, [0]] = balance_sheet_liabilities.iloc[:, [0]].apply(lambda x: x.str.slice(0, 61))"
   ]
  },
  {
   "cell_type": "code",
   "execution_count": 43,
   "metadata": {},
   "outputs": [],
   "source": [
    "#Saving model to Excel\n",
    "try:\n",
    "    datawriter = pd.ExcelWriter(ticker + '.xlsx', engine='xlsxwriter')   #xlsx automatically changes to ticker.xlsx\n",
    "except:\n",
    "    datawriter = pd.ExcelWriter('somethingwentwrong.xlsx', engine='xlsxwriter') #don't put weird stuff as ticker, there's no error handler\n",
    "#title1 = {' key stock data': str(ticker)}\n",
    "#title2 = {' three statement model': str(ticker)}\n",
    "\n",
    "#formatting\n",
    "#cell_format = workbook.add_format({'font_family': 'arial'})\n",
    "\n",
    "profile[0].to_excel(datawriter, sheet_name='Key data',startrow=2, startcol=6)\n",
    "profile[1].to_excel(datawriter, sheet_name='Key data',startrow=13, startcol=1)\n",
    "profile[2].to_excel(datawriter, sheet_name='Key data',startrow=19, startcol=1)\n",
    "profile[3].to_excel(datawriter, sheet_name='Key data',startrow=2, startcol=10)\n",
    "profile[4].to_excel(datawriter, sheet_name='Key data',startrow=2, startcol=14)\n",
    "profile[5].to_excel(datawriter, sheet_name='Key data',startrow=13, startcol=6)\n",
    "profile[6].to_excel(datawriter, sheet_name='Key data',startrow=13, startcol=11)\n",
    "\n",
    "dayprice.to_excel(datawriter, sheet_name='Key data',startrow=2, startcol=1)\n",
    "performance.to_excel(datawriter, sheet_name='Key data',startrow=5, startcol=1)\n",
    "competitors.to_excel(datawriter, sheet_name='Key data',startrow=20, startcol=6)\n",
    "\n",
    "income_statement.to_excel(datawriter, sheet_name='Analysis',startrow=2, startcol=1)\n",
    "balance_sheet_assets.to_excel(datawriter, sheet_name='Analysis',startrow=2, startcol=9)\n",
    "balance_sheet_liabilities.to_excel(datawriter, sheet_name='Analysis',startrow=42, startcol=9)\n",
    "\n",
    "cashflow_operations.to_excel(datawriter, sheet_name='Analysis',startrow=2, startcol=17)\n",
    "cashflow_investing.to_excel(datawriter, sheet_name='Analysis',startrow=24, startcol=17)\n",
    "cashflow_financing.to_excel(datawriter, sheet_name='Analysis',startrow=43, startcol=17)"
   ]
  },
  {
   "cell_type": "code",
   "execution_count": 44,
   "metadata": {},
   "outputs": [],
   "source": [
    "datawriter.save()"
   ]
  },
  {
   "cell_type": "code",
   "execution_count": null,
   "metadata": {},
   "outputs": [],
   "source": []
  }
 ],
 "metadata": {
  "kernelspec": {
   "display_name": "Python 3",
   "language": "python",
   "name": "python3"
  },
  "language_info": {
   "codemirror_mode": {
    "name": "ipython",
    "version": 3
   },
   "file_extension": ".py",
   "mimetype": "text/x-python",
   "name": "python",
   "nbconvert_exporter": "python",
   "pygments_lexer": "ipython3",
   "version": "3.8.5"
  }
 },
 "nbformat": 4,
 "nbformat_minor": 4
}
